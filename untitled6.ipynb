{
  "nbformat": 4,
  "nbformat_minor": 0,
  "metadata": {
    "colab": {
      "provenance": []
    },
    "kernelspec": {
      "name": "python3",
      "display_name": "Python 3"
    },
    "language_info": {
      "name": "python"
    }
  },
  "cells": [
    {
      "source": [
        "from pyspark.sql import SparkSession\n",
        "from pyspark.sql.types import StructType, StructField, StringType, DoubleType, DateType\n",
        "from pyspark.sql import functions as F\n",
        "from datetime import date\n",
        "# Import Window from pyspark.sql.window\n",
        "from pyspark.sql.window import Window\n"
      ],
      "cell_type": "code",
      "metadata": {
        "id": "MnaAsQZCwjOa"
      },
      "execution_count": null,
      "outputs": []
    },
    {
      "cell_type": "code",
      "source": [
        "\n",
        "# Initialize Spark session\n",
        "spark = SparkSession.builder.appName(\"E-commerce Transactions Analysis\").getOrCreate()\n"
      ],
      "metadata": {
        "id": "r4d3GMwGxgjO"
      },
      "execution_count": null,
      "outputs": []
    },
    {
      "cell_type": "code",
      "source": [
        "\n",
        "# Define the schema for the DataFrame\n",
        "schema = StructType([\n",
        "    StructField(\"transaction_id\", StringType(), True),\n",
        "    StructField(\"user_id\", StringType(), True),\n",
        "    StructField(\"product_id\", StringType(), True),\n",
        "    StructField(\"category\", StringType(), True),\n",
        "    StructField(\"amount\", DoubleType(), True),\n",
        "    StructField(\"transaction_date\", DateType(), True)])\n"
      ],
      "metadata": {
        "id": "6w8rNVQ4xqsF"
      },
      "execution_count": null,
      "outputs": []
    },
    {
      "cell_type": "code",
      "source": [
        "\n",
        "# Create sample data\n",
        "data = [\n",
        "    (\"T1\", \"U1\", \"P1\", \"Music\", 15.0, date(2024, 1, 15)),\n",
        "    (\"T2\", \"U2\", \"P2\", \"Music\", 25.0, date(2024, 1, 20)),\n",
        "    (\"T3\", \"U3\", \"P3\", \"Home Appliances\", 80.0, date(2024, 2, 1)),\n",
        "    (\"T4\", \"U4\", \"P4\", \"Home Appliances\", 150.0, date(2024, 2, 3)),\n",
        "    (\"T5\", \"U5\", \"P5\", \"Health\", 45.0, date(2024, 3, 7)),\n",
        "    (\"T6\", \"U6\", \"P6\", \"Health\", 60.0, date(2024, 3, 9)),\n",
        "    (\"T7\", \"U7\", \"P7\", \"Gaming\", 120.0, date(2024, 4, 1)),\n",
        "    (\"T8\", \"U8\", \"P8\", \"Gaming\", 180.0, date(2024, 4, 5)),\n",
        "    (\"T9\", \"U9\", \"P9\", \"Kitchen\", 55.0, date(2024, 5, 3)),\n",
        "    (\"T10\", \"U10\", \"P10\", \"Kitchen\", 70.0, date(2024, 5, 7)),\n",
        "]\n"
      ],
      "metadata": {
        "id": "jM6sknSJxuAP"
      },
      "execution_count": null,
      "outputs": []
    },
    {
      "cell_type": "code",
      "source": [
        "\n",
        "\n",
        "# Create DataFrame\n",
        "df = spark.createDataFrame(data, schema)\n",
        "df.show()"
      ],
      "metadata": {
        "colab": {
          "base_uri": "https://localhost:8080/"
        },
        "id": "hZOMEvftxwU6",
        "outputId": "75bf3fa1-d1fd-4685-8cb9-94e2ff4a5cef"
      },
      "execution_count": null,
      "outputs": [
        {
          "output_type": "stream",
          "name": "stdout",
          "text": [
            "+--------------+-------+----------+---------------+------+----------------+\n",
            "|transaction_id|user_id|product_id|       category|amount|transaction_date|\n",
            "+--------------+-------+----------+---------------+------+----------------+\n",
            "|            T1|     U1|        P1|          Music|  15.0|      2024-01-15|\n",
            "|            T2|     U2|        P2|          Music|  25.0|      2024-01-20|\n",
            "|            T3|     U3|        P3|Home Appliances|  80.0|      2024-02-01|\n",
            "|            T4|     U4|        P4|Home Appliances| 150.0|      2024-02-03|\n",
            "|            T5|     U5|        P5|         Health|  45.0|      2024-03-07|\n",
            "|            T6|     U6|        P6|         Health|  60.0|      2024-03-09|\n",
            "|            T7|     U7|        P7|         Gaming| 120.0|      2024-04-01|\n",
            "|            T8|     U8|        P8|         Gaming| 180.0|      2024-04-05|\n",
            "|            T9|     U9|        P9|        Kitchen|  55.0|      2024-05-03|\n",
            "|           T10|    U10|       P10|        Kitchen|  70.0|      2024-05-07|\n",
            "+--------------+-------+----------+---------------+------+----------------+\n",
            "\n"
          ]
        }
      ]
    },
    {
      "cell_type": "code",
      "source": [
        "\n",
        "# Calculate total spending amount and average transaction amount per user\n",
        "spending_df = df.groupBy(\"user_id\").agg(\n",
        "    F.sum(\"amount\").alias(\"total_spent\"),\n",
        "    F.avg(\"amount\").alias(\"avg_transaction\")\n",
        ")\n",
        "spending_df.show()"
      ],
      "metadata": {
        "colab": {
          "base_uri": "https://localhost:8080/"
        },
        "id": "mHfzlLlfxyF5",
        "outputId": "1879b13e-fdfc-427d-dbc1-092f3c031daa"
      },
      "execution_count": null,
      "outputs": [
        {
          "output_type": "stream",
          "name": "stdout",
          "text": [
            "+-------+-----------+---------------+\n",
            "|user_id|total_spent|avg_transaction|\n",
            "+-------+-----------+---------------+\n",
            "|     U2|       25.0|           25.0|\n",
            "|     U4|      150.0|          150.0|\n",
            "|     U3|       80.0|           80.0|\n",
            "|     U5|       45.0|           45.0|\n",
            "|     U1|       15.0|           15.0|\n",
            "|    U10|       70.0|           70.0|\n",
            "|     U6|       60.0|           60.0|\n",
            "|     U9|       55.0|           55.0|\n",
            "|     U8|      180.0|          180.0|\n",
            "|     U7|      120.0|          120.0|\n",
            "+-------+-----------+---------------+\n",
            "\n"
          ]
        }
      ]
    },
    {
      "cell_type": "code",
      "source": [
        "\n",
        "# Calculate the most frequently purchased category for each user\n",
        "favorite_category_df = df.groupBy(\"user_id\", \"category\") \\\n",
        "    .count() \\\n",
        "    .withColumn(\"rank\", F.row_number().over(\n",
        "        Window.partitionBy(\"user_id\").orderBy(F.desc(\"count\"))\n",
        "    )) \\\n",
        "    .filter(F.col(\"rank\") == 1) \\\n",
        "    .select(\"user_id\", F.col(\"category\").alias(\"favorite_category\"))\n",
        "\n",
        "df.show()\n"
      ],
      "metadata": {
        "colab": {
          "base_uri": "https://localhost:8080/"
        },
        "id": "y2uIETpKxzY5",
        "outputId": "b9f68d64-dfe1-4708-cff6-c5035b08ac05"
      },
      "execution_count": null,
      "outputs": [
        {
          "output_type": "stream",
          "name": "stdout",
          "text": [
            "+--------------+-------+----------+---------------+------+----------------+\n",
            "|transaction_id|user_id|product_id|       category|amount|transaction_date|\n",
            "+--------------+-------+----------+---------------+------+----------------+\n",
            "|            T1|     U1|        P1|          Music|  15.0|      2024-01-15|\n",
            "|            T2|     U2|        P2|          Music|  25.0|      2024-01-20|\n",
            "|            T3|     U3|        P3|Home Appliances|  80.0|      2024-02-01|\n",
            "|            T4|     U4|        P4|Home Appliances| 150.0|      2024-02-03|\n",
            "|            T5|     U5|        P5|         Health|  45.0|      2024-03-07|\n",
            "|            T6|     U6|        P6|         Health|  60.0|      2024-03-09|\n",
            "|            T7|     U7|        P7|         Gaming| 120.0|      2024-04-01|\n",
            "|            T8|     U8|        P8|         Gaming| 180.0|      2024-04-05|\n",
            "|            T9|     U9|        P9|        Kitchen|  55.0|      2024-05-03|\n",
            "|           T10|    U10|       P10|        Kitchen|  70.0|      2024-05-07|\n",
            "+--------------+-------+----------+---------------+------+----------------+\n",
            "\n"
          ]
        }
      ]
    },
    {
      "cell_type": "code",
      "source": [
        "\n",
        "# Join results\n",
        "result_df = spending_df.join(favorite_category_df, on=\"user_id\", how=\"left\")\n"
      ],
      "metadata": {
        "id": "jgss7wf6x1A-"
      },
      "execution_count": null,
      "outputs": []
    },
    {
      "cell_type": "code",
      "source": [
        "\n",
        "# Show the result\n",
        "result_df.show()"
      ],
      "metadata": {
        "colab": {
          "base_uri": "https://localhost:8080/"
        },
        "id": "sZV3_RYMx2d4",
        "outputId": "21a09d36-affc-49e0-a037-0a984c002c31"
      },
      "execution_count": null,
      "outputs": [
        {
          "output_type": "stream",
          "name": "stdout",
          "text": [
            "+-------+-----------+---------------+-----------------+\n",
            "|user_id|total_spent|avg_transaction|favorite_category|\n",
            "+-------+-----------+---------------+-----------------+\n",
            "|     U2|       25.0|           25.0|            Music|\n",
            "|     U4|      150.0|          150.0|  Home Appliances|\n",
            "|     U3|       80.0|           80.0|  Home Appliances|\n",
            "|     U5|       45.0|           45.0|           Health|\n",
            "|     U1|       15.0|           15.0|            Music|\n",
            "|    U10|       70.0|           70.0|          Kitchen|\n",
            "|     U6|       60.0|           60.0|           Health|\n",
            "|     U9|       55.0|           55.0|          Kitchen|\n",
            "|     U8|      180.0|          180.0|           Gaming|\n",
            "|     U7|      120.0|          120.0|           Gaming|\n",
            "+-------+-----------+---------------+-----------------+\n",
            "\n"
          ]
        }
      ]
    }
  ]
}